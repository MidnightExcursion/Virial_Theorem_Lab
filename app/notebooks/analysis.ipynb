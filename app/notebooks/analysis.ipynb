{
 "cells": [
  {
   "cell_type": "markdown",
   "metadata": {},
   "source": [
    "## (#1): Libraries:"
   ]
  },
  {
   "cell_type": "code",
   "execution_count": 2,
   "metadata": {},
   "outputs": [],
   "source": [
    "# External Library | Matplotlib\n",
    "import matplotlib.pyplot as plt\n",
    "\n",
    "# External Library | NumPy\n",
    "import numpy as np\n",
    "\n",
    "# External Library | Pandas\n",
    "import pandas as pd"
   ]
  },
  {
   "cell_type": "markdown",
   "metadata": {},
   "source": [
    "## (#2): Data Acquisition:"
   ]
  },
  {
   "cell_type": "markdown",
   "metadata": {},
   "source": [
    "### (#2.1): Obtain data via URL:"
   ]
  },
  {
   "cell_type": "code",
   "execution_count": 4,
   "metadata": {},
   "outputs": [],
   "source": [
    "_RAW_DATA_URL = 'http://spiff.rit.edu/classes/phys440/lectures/gal_clus/coma_rv.dat'"
   ]
  },
  {
   "cell_type": "markdown",
   "metadata": {},
   "source": [
    "### (#2.2): Initialize Column Names"
   ]
  },
  {
   "cell_type": "code",
   "execution_count": 46,
   "metadata": {},
   "outputs": [],
   "source": [
    "_RAW_DATA_COLUMN_NAMES = [\n",
    "    'ID',\n",
    "    'GMP Number',\n",
    "    'NGC/IC Number',\n",
    "    'GMP X',\n",
    "    'GMP Y',\n",
    "    'GMP b26.6',\n",
    "    'GMP B-R',\n",
    "    'Heliocentric Velocity [km s^-1]',\n",
    "    'Heliocentric Velocity Error [km s^-1]',\n",
    "    'Reference Index',\n",
    "    'Emission Lines?'\n",
    "]"
   ]
  },
  {
   "cell_type": "code",
   "execution_count": 56,
   "metadata": {},
   "outputs": [],
   "source": [
    "heliocentric_velocity = np.array([\n",
    "    7452,\n",
    "    5749,\n",
    "    7606,\n",
    "    7653,\n",
    "    4915,\n",
    "    5186,\n",
    "    20220,\n",
    "    4915,\n",
    "    7335,\n",
    "    8318,\n",
    "    7226,\n",
    "    49310,\n",
    "    7173,\n",
    "    7304,\n",
    "    -154,\n",
    "    19865,\n",
    "    6055,\n",
    "    7694,\n",
    "    38272,\n",
    "    5504,\n",
    "    4811,\n",
    "    7442,\n",
    "    5709,\n",
    "    8203,\n",
    "    6819,\n",
    "    -101,\n",
    "    -354,\n",
    "    6205,\n",
    "    7323,\n",
    "    -202,\n",
    "    8122,\n",
    "    7012,\n",
    "    7545,\n",
    "    7310\n",
    "])"
   ]
  },
  {
   "cell_type": "code",
   "execution_count": 57,
   "metadata": {},
   "outputs": [],
   "source": [
    "heliocentric_velocity_error = np.array([\n",
    "    22,\n",
    "    16,\n",
    "    12,\n",
    "    13,\n",
    "    53,\n",
    "    29,\n",
    "    0,\n",
    "    25,\n",
    "    17,\n",
    "    17,\n",
    "    18,\n",
    "    71,\n",
    "    32,\n",
    "    28,\n",
    "    40,\n",
    "    15,\n",
    "    20,\n",
    "    45,\n",
    "    60,\n",
    "    36,\n",
    "    55,\n",
    "    100,\n",
    "    119,\n",
    "    27,\n",
    "    48,\n",
    "    37,\n",
    "    139,\n",
    "    15,\n",
    "    35,\n",
    "    40,\n",
    "    93,\n",
    "    10,\n",
    "    37,\n",
    "    21\n",
    "])"
   ]
  },
  {
   "cell_type": "code",
   "execution_count": 62,
   "metadata": {},
   "outputs": [],
   "source": [
    "hist, bin_edges = np.histogram(heliocentric_velocity, bins = 20)"
   ]
  },
  {
   "cell_type": "code",
   "execution_count": null,
   "metadata": {},
   "outputs": [],
   "source": []
  }
 ],
 "metadata": {
  "kernelspec": {
   "display_name": "Python 3",
   "language": "python",
   "name": "python3"
  },
  "language_info": {
   "codemirror_mode": {
    "name": "ipython",
    "version": 3
   },
   "file_extension": ".py",
   "mimetype": "text/x-python",
   "name": "python",
   "nbconvert_exporter": "python",
   "pygments_lexer": "ipython3",
   "version": "3.10.5"
  }
 },
 "nbformat": 4,
 "nbformat_minor": 2
}
